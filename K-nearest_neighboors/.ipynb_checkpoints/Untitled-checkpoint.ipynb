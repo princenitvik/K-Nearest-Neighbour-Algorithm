{
 "cells": [
  {
   "cell_type": "markdown",
   "metadata": {},
   "source": [
    "# Question\n",
    "\n",
    "Define a function so that it generates 3 objects (A, B, C) with probability 0.3, 0.2, 0.5 when called."
   ]
  },
  {
   "cell_type": "code",
   "execution_count": 1,
   "metadata": {
    "collapsed": true
   },
   "outputs": [],
   "source": [
    "import numpy as np\n",
    "\n",
    "def generate_random():\n",
    "    r = np.random.random()\n",
    "    \n",
    "    if r < 0.3:\n",
    "        return 'A'\n",
    "    elif r >= .3 and r < .5:\n",
    "        return 'B'\n",
    "    return 'C'"
   ]
  },
  {
   "cell_type": "code",
   "execution_count": 28,
   "metadata": {
    "collapsed": false
   },
   "outputs": [
    {
     "name": "stdout",
     "output_type": "stream",
     "text": [
      "0.3007 0.1941 0.5052\n"
     ]
    }
   ],
   "source": [
    "N = 10000\n",
    "a, b, c = 0, 0, 0\n",
    "\n",
    "for ix in range(N):\n",
    "    k = generate_random()\n",
    "    if k is 'A':\n",
    "        a += 1\n",
    "    elif k is 'B':\n",
    "        b += 1\n",
    "    else:\n",
    "        c += 1\n",
    "\n",
    "print float(a)/N, float(b)/N, float(c)/N"
   ]
  },
  {
   "cell_type": "markdown",
   "metadata": {},
   "source": [
    "## Previois Class Recap\n",
    "\n",
    "1. __Normal__ and __Standard Normal Distributions__\n",
    "2. Generating __multi-variate normal distributions__ data points"
   ]
  },
  {
   "cell_type": "code",
   "execution_count": 33,
   "metadata": {
    "collapsed": true
   },
   "outputs": [],
   "source": [
    "import numpy as np\n",
    "from matplotlib import pyplot as plt\n",
    "%matplotlib inline\n",
    "import pandas as pd\n",
    "import cv2"
   ]
  },
  {
   "cell_type": "code",
   "execution_count": 41,
   "metadata": {
    "collapsed": true
   },
   "outputs": [],
   "source": [
    "# Define mean and covariance matrices for different distributions\n",
    "mean_01 = np.array([0.0, 0.0])\n",
    "mean_02 = np.array([7., 6.])\n",
    "\n",
    "cov_01 = np.array([[2.0, 1.0],\n",
    "                   [1.0, 3.0]])\n",
    "cov_02 = np.array([[4.0, 0.0],\n",
    "                   [0.0, 2.0]])"
   ]
  },
  {
   "cell_type": "code",
   "execution_count": 44,
   "metadata": {
    "collapsed": true
   },
   "outputs": [],
   "source": [
    "# Create the different datasets\n",
    "\n",
    "data_01 = np.random.multivariate_normal(mean_01,\n",
    "                                       cov_01, 250)\n",
    "data_02 = np.random.multivariate_normal(mean_02,\n",
    "                                       cov_02, 250)"
   ]
  },
  {
   "cell_type": "code",
   "execution_count": 45,
   "metadata": {
    "collapsed": false
   },
   "outputs": [
    {
     "data": {
      "image/png": "[encoded data removed]",
      "text/plain": [
       "<matplotlib.figure.Figure at 0x7f74aabe0490>"
      ]
     },
     "metadata": {},
     "output_type": "display_data"
    }
   ],
   "source": [
    "# Plot the datasets and visualize them\n",
    "\n",
    "plt.figure(0)\n",
    "plt.scatter(data_01[:, 0], data_01[:, 1], color='green')\n",
    "plt.scatter(data_02[:, 0], data_02[:, 1], color='red')\n",
    "plt.show()"
   ]
  },
  {
   "cell_type": "markdown",
   "metadata": {},
   "source": [
    "## Problem Statement\n",
    "\n",
    "Given the bunch of clusters and which class/category each point belongs to, can you predict in which class will any given point lie?"
   ]
  },
  {
   "cell_type": "code",
   "execution_count": 46,
   "metadata": {
    "collapsed": false
   },
   "outputs": [
    {
     "name": "stdout",
     "output_type": "stream",
     "text": [
      "(500, 2)\n"
     ]
    }
   ],
   "source": [
    "data_X = np.concatenate((data_01, data_02), axis=0)\n",
    "print data_X.shape"
   ]
  },
  {
   "cell_type": "code",
   "execution_count": 47,
   "metadata": {
    "collapsed": false
   },
   "outputs": [
    {
     "name": "stdout",
     "output_type": "stream",
     "text": [
      "(500, 3)\n"
     ]
    }
   ],
   "source": [
    "data_y = np.zeros((500, 1))\n",
    "data_y[250:] = 1\n",
    "\n",
    "data = np.concatenate((data_X, data_y), axis=1)\n",
    "print data.shape"
   ]
  },
  {
   "cell_type": "code",
   "execution_count": 82,
   "metadata": {
    "collapsed": true
   },
   "outputs": [],
   "source": [
    "def distance(v1, v2):\n",
    "    # Eucledian distance\n",
    "    return np.sqrt(((v1-v2)**2).sum())\n",
    "\n",
    "def knn(train, test, k=3):\n",
    "    dist = []\n",
    "    \n",
    "    for i in range(train.shape[0]):\n",
    "        # Get the vector and label\n",
    "        ix = train[i, :-1]\n",
    "        iy = train[i, -1]\n",
    "        # Compute the distance from test point\n",
    "        d = distance(test, ix)\n",
    "        dist.append([d, iy])\n",
    "    # Sort based on distance and get top k\n",
    "    dk = sorted(dist, key=lambda x: x[0])[:k]\n",
    "    # Retrieve only the labels\n",
    "    labels = np.array(dk)[:, -1]\n",
    "    \n",
    "    # Get frequencies of each label\n",
    "    output = np.unique(labels, return_counts=True)\n",
    "    # Find max frequency and corresponding label\n",
    "    index = np.argmax(output[1])\n",
    "    return output[0][index]"
   ]
  },
  {
   "cell_type": "code",
   "execution_count": 56,
   "metadata": {
    "collapsed": false
   },
   "outputs": [
    {
     "name": "stdout",
     "output_type": "stream",
     "text": [
      "1.0\n"
     ]
    }
   ],
   "source": [
    "x = np.array([5.0, 4.0])\n",
    "\n",
    "print knn(data, x, k=5)"
   ]
  },
  {
   "cell_type": "code",
   "execution_count": 59,
   "metadata": {
    "collapsed": true
   },
   "outputs": [],
   "source": [
    "from sklearn.datasets import load_digits"
   ]
  },
  {
   "cell_type": "code",
   "execution_count": 76,
   "metadata": {
    "collapsed": false
   },
   "outputs": [
    {
     "data": {
      "text/plain": [
       "(1797, 64)"
      ]
     },
     "execution_count": 76,
     "metadata": {},
     "output_type": "execute_result"
    }
   ],
   "source": [
    "load_digits(return_X_y=True)[0].shape"
   ]
  },
  {
   "cell_type": "code",
   "execution_count": 68,
   "metadata": {
    "collapsed": false
   },
   "outputs": [
    {
     "name": "stdout",
     "output_type": "stream",
     "text": [
      "(1797, 64) (1797,)\n"
     ]
    }
   ],
   "source": [
    "data = load_digits(return_X_y=True)\n",
    "X = data[0]\n",
    "y = data[1]\n",
    "\n",
    "print X.shape, y.shape"
   ]
  },
  {
   "cell_type": "code",
   "execution_count": 79,
   "metadata": {
    "collapsed": false
   },
   "outputs": [
    {
     "data": {
      "image/png": "[encoded data removed]",
      "text/plain": [
       "<matplotlib.figure.Figure at 0x7f74a174c750>"
      ]
     },
     "metadata": {},
     "output_type": "display_data"
    }
   ],
   "source": [
    "plt.figure(0, figsize=(2, 2))\n",
    "plt.imshow(X[452].reshape((8, 8)), cmap='gray')\n",
    "plt.show()"
   ]
  },
  {
   "cell_type": "code",
   "execution_count": 81,
   "metadata": {
    "collapsed": false
   },
   "outputs": [
    {
     "name": "stdout",
     "output_type": "stream",
     "text": [
      "(1797, 65)\n"
     ]
    }
   ],
   "source": [
    "ds = np.concatenate((X, y.reshape((-1, 1))), axis=1)\n",
    "print ds.shape"
   ]
  },
  {
   "cell_type": "code",
   "execution_count": 84,
   "metadata": {
    "collapsed": false
   },
   "outputs": [
    {
     "name": "stdout",
     "output_type": "stream",
     "text": [
      "(1500, 65) (297, 65)\n"
     ]
    }
   ],
   "source": [
    "trainset = ds[:1500]\n",
    "testset = ds[1500:]\n",
    "\n",
    "print trainset.shape, testset.shape"
   ]
  },
  {
   "cell_type": "code",
   "execution_count": 98,
   "metadata": {
    "collapsed": false
   },
   "outputs": [],
   "source": [
    "import datetime\n",
    "\n",
    "\n",
    "\n",
    "\n",
    "def test_on_set(trainset, testing, k=3):\n",
    "    preds = []\n",
    "    target = []\n",
    "    # start = datetime.datetime.now()\n",
    "    for ix in range(testing.shape[0]):\n",
    "        out = knn(trainset, testing[ix, :-1], k=k)\n",
    "        preds.append(out)\n",
    "        target.append(testing[ix, -1])\n",
    "    preds = np.asarray(preds)\n",
    "    target = np.asarray(target)\n",
    "    # stop = datetime.datetime.now()\n",
    "\n",
    "    # print preds.shape, target.shape\n",
    "    # print \"Time taken: {}\".format(stop - start)\n",
    "\n",
    "    acc = float((preds == target).sum()) / len(preds)\n",
    "\n",
    "    print \"Accuracy: {} wiht k: {}\".format(acc, k)\n",
    "    return acc"
   ]
  },
  {
   "cell_type": "code",
   "execution_count": 99,
   "metadata": {
    "collapsed": false
   },
   "outputs": [
    {
     "name": "stdout",
     "output_type": "stream",
     "text": [
      "Accuracy: 0.956228956229 wiht k: 2\n",
      "Accuracy: 0.959595959596 wiht k: 3\n",
      "Accuracy: 0.959595959596 wiht k: 4\n",
      "Accuracy: 0.956228956229 wiht k: 5\n",
      "Accuracy: 0.946127946128 wiht k: 6\n",
      "Accuracy: 0.946127946128 wiht k: 7\n",
      "Accuracy: 0.942760942761 wiht k: 8\n",
      "Accuracy: 0.942760942761 wiht k: 9\n",
      "Accuracy: 0.942760942761 wiht k: 10\n",
      "Accuracy: 0.942760942761 wiht k: 11\n",
      "Accuracy: 0.942760942761 wiht k: 12\n",
      "Accuracy: 0.939393939394 wiht k: 13\n",
      "Accuracy: 0.942760942761 wiht k: 14\n",
      "Accuracy: 0.939393939394 wiht k: 15\n",
      "Accuracy: 0.946127946128 wiht k: 16\n",
      "Accuracy: 0.942760942761 wiht k: 17\n",
      "Accuracy: 0.939393939394 wiht k: 18\n"
     ]
    }
   ],
   "source": [
    "accs = []\n",
    "ks = [2, 3, 4, 5, 6, 7, 8, 9, 10, 11, 12, 13, 14, 15, 16, 17, 18]\n",
    "\n",
    "for kx in ks:\n",
    "    acx = test_on_set(trainset, testset, k=kx)\n",
    "    accs.append(acx)"
   ]
  },
  {
   "cell_type": "code",
   "execution_count": 100,
   "metadata": {
    "collapsed": false
   },
   "outputs": [
    {
     "data": {
      "image/png": "[encoded data removed]",
      "text/plain": [
       "<matplotlib.figure.Figure at 0x7f74aadeac50>"
      ]
     },
     "metadata": {},
     "output_type": "display_data"
    }
   ],
   "source": [
    "plt.figure(0)\n",
    "plt.grid(\"on\")\n",
    "plt.plot(accs)\n",
    "\n",
    "plt.show()"
   ]
  }
 ],
 "metadata": {
  "kernelspec": {
   "display_name": "Python 2",
   "language": "python",
   "name": "python2"
  },
  "language_info": {
   "codemirror_mode": {
    "name": "ipython",
    "version": 2
   },
   "file_extension": ".py",
   "mimetype": "text/x-python",
   "name": "python",
   "nbconvert_exporter": "python",
   "pygments_lexer": "ipython2",
   "version": "2.7.12"
  }
 },
 "nbformat": 4,
 "nbformat_minor": 2
}
